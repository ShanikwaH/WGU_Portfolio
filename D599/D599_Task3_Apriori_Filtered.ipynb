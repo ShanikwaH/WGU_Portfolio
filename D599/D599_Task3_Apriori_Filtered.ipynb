{
 "cells": [
  {
   "cell_type": "markdown",
   "id": "b3261f39",
   "metadata": {},
   "source": [
    "# D599 Task 3: Market Basket Analysis with Apriori\n",
    "Filtered for High-Priority Orders in the Northeast Region"
   ]
  },
  {
   "cell_type": "code",
   "execution_count": null,
   "id": "b1ea1939",
   "metadata": {},
   "outputs": [],
   "source": [
    "import pandas as pd\n",
    "from mlxtend.frequent_patterns import apriori, association_rules"
   ]
  },
  {
   "cell_type": "markdown",
   "id": "1705a162",
   "metadata": {},
   "source": [
    "## Step 1: Load Cleaned Dataset"
   ]
  },
  {
   "cell_type": "code",
   "execution_count": null,
   "id": "7b3008fc",
   "metadata": {},
   "outputs": [],
   "source": [
    "basket = pd.read_csv('Cleaned_Megastore_Task3 1.csv', index_col=0)\n",
    "# Convert to boolean values for Apriori\n",
    "basket = basket.astype(bool)\n",
    "basket.head()"
   ]
  },
  {
   "cell_type": "markdown",
   "id": "41606334",
   "metadata": {},
   "source": [
    "## Step 2: Run Apriori Algorithm"
   ]
  },
  {
   "cell_type": "code",
   "execution_count": null,
   "id": "f2eff1a7",
   "metadata": {},
   "outputs": [],
   "source": [
    "frequent_itemsets = apriori(basket, min_support=0.02, use_colnames=True)\n",
    "frequent_itemsets.head()"
   ]
  },
  {
   "cell_type": "markdown",
   "id": "44c9058c",
   "metadata": {},
   "source": [
    "## Step 3: Generate Association Rules"
   ]
  },
  {
   "cell_type": "code",
   "execution_count": null,
   "id": "c7136644",
   "metadata": {},
   "outputs": [],
   "source": [
    "rules = association_rules(frequent_itemsets, metric='lift', min_threshold=1)\n",
    "rules = rules.sort_values(by='lift', ascending=False)\n",
    "rules[['antecedents', 'consequents', 'support', 'confidence', 'lift']].head(10)"
   ]
  },
  {
   "cell_type": "markdown",
   "id": "4bd418aa",
   "metadata": {},
   "source": [
    "## Step 4: Display Top 3 Rules"
   ]
  },
  {
   "cell_type": "code",
   "execution_count": null,
   "id": "6a8a7a0d",
   "metadata": {},
   "outputs": [],
   "source": [
    "top_3_rules = rules[['antecedents', 'consequents', 'support', 'confidence', 'lift']].head(3)\n",
    "top_3_rules"
   ]
  }
 ],
 "metadata": {
  "kernelspec": {
   "display_name": "apriori_env",
   "language": "python",
   "name": "python3"
  },
  "language_info": {
   "codemirror_mode": {
    "name": "ipython",
    "version": 3
   },
   "file_extension": ".py",
   "mimetype": "text/x-python",
   "name": "python",
   "nbconvert_exporter": "python",
   "pygments_lexer": "ipython3",
   "version": "3.11.11"
  }
 },
 "nbformat": 4,
 "nbformat_minor": 5
}
