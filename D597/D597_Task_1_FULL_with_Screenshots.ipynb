{
 "cells": [
  {
   "cell_type": "markdown",
   "id": "dbd7d56f",
   "metadata": {},
   "source": [
    "# D597 Task 1 - Relational Database Design and Implementation\n",
    "\n",
    "**Student Name:** Shanikwa Haynes  \n",
    "**Student ID:** 010369658  \n",
    "**Date:** 03/31/2025\n",
    "\n",
    "---\n",
    "\n",
    "## Embedded Screenshots of Task 1 Submission\n",
    "Below are the screenshots of each page from the original PDF submission.\n"
   ]
  },
  {
   "cell_type": "markdown",
   "id": "e7922b38",
   "metadata": {},
   "source": [
    "### Page 1\n",
    "\n",
    "![Page 1](/mnt/data/page_1.png)"
   ]
  },
  {
   "cell_type": "markdown",
   "id": "1da61565",
   "metadata": {},
   "source": [
    "### Page 2\n",
    "\n",
    "![Page 2](/mnt/data/page_2.png)"
   ]
  },
  {
   "cell_type": "markdown",
   "id": "89599145",
   "metadata": {},
   "source": [
    "### Page 3\n",
    "\n",
    "![Page 3](/mnt/data/page_3.png)"
   ]
  },
  {
   "cell_type": "markdown",
   "id": "3bd72251",
   "metadata": {},
   "source": [
    "### Page 4\n",
    "\n",
    "![Page 4](/mnt/data/page_4.png)"
   ]
  },
  {
   "cell_type": "markdown",
   "id": "1d3ecec0",
   "metadata": {},
   "source": [
    "### Page 5\n",
    "\n",
    "![Page 5](/mnt/data/page_5.png)"
   ]
  },
  {
   "cell_type": "markdown",
   "id": "cf42ad7c",
   "metadata": {},
   "source": [
    "### Page 6\n",
    "\n",
    "![Page 6](/mnt/data/page_6.png)"
   ]
  },
  {
   "cell_type": "markdown",
   "id": "3f78fbfb",
   "metadata": {},
   "source": [
    "### Page 7\n",
    "\n",
    "![Page 7](/mnt/data/page_7.png)"
   ]
  },
  {
   "cell_type": "markdown",
   "id": "782ef9e6",
   "metadata": {},
   "source": [
    "### Page 8\n",
    "\n",
    "![Page 8](/mnt/data/page_8.png)"
   ]
  },
  {
   "cell_type": "markdown",
   "id": "2e43342f",
   "metadata": {},
   "source": [
    "### Page 9\n",
    "\n",
    "![Page 9](/mnt/data/page_9.png)"
   ]
  },
  {
   "cell_type": "markdown",
   "id": "7e5ad670",
   "metadata": {},
   "source": [
    "### Page 10\n",
    "\n",
    "![Page 10](/mnt/data/page_10.png)"
   ]
  },
  {
   "cell_type": "markdown",
   "id": "437b9ce0",
   "metadata": {},
   "source": [
    "### Page 11\n",
    "\n",
    "![Page 11](/mnt/data/page_11.png)"
   ]
  },
  {
   "cell_type": "markdown",
   "id": "722be1d1",
   "metadata": {},
   "source": [
    "### Page 12\n",
    "\n",
    "![Page 12](/mnt/data/page_12.png)"
   ]
  },
  {
   "cell_type": "markdown",
   "id": "bf3e1ec4",
   "metadata": {},
   "source": [
    "### Page 13\n",
    "\n",
    "![Page 13](/mnt/data/page_13.png)"
   ]
  },
  {
   "cell_type": "markdown",
   "id": "9198ce89",
   "metadata": {},
   "source": [
    "### Page 14\n",
    "\n",
    "![Page 14](/mnt/data/page_14.png)"
   ]
  },
  {
   "cell_type": "markdown",
   "id": "1ad8e478",
   "metadata": {},
   "source": [
    "### Page 15\n",
    "\n",
    "![Page 15](/mnt/data/page_15.png)"
   ]
  },
  {
   "cell_type": "markdown",
   "id": "c84c4b52",
   "metadata": {},
   "source": [
    "### Page 16\n",
    "\n",
    "![Page 16](/mnt/data/page_16.png)"
   ]
  },
  {
   "cell_type": "markdown",
   "id": "39af29f5",
   "metadata": {},
   "source": [
    "### Page 17\n",
    "\n",
    "![Page 17](/mnt/data/page_17.png)"
   ]
  },
  {
   "cell_type": "markdown",
   "id": "2c5e01fa",
   "metadata": {},
   "source": [
    "### Page 18\n",
    "\n",
    "![Page 18](/mnt/data/page_18.png)"
   ]
  }
 ],
 "metadata": {},
 "nbformat": 4,
 "nbformat_minor": 5
}
